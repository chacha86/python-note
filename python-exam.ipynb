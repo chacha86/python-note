{
 "cells": [
  {
   "cell_type": "markdown",
   "id": "a630591f",
   "metadata": {},
   "source": [
    "# 출력"
   ]
  },
  {
   "cell_type": "markdown",
   "id": "a0481497",
   "metadata": {},
   "source": [
    "  - 특정 값을 출력한다.\n",
    "  - print()\n",
    "    - 출력하고 싶은 값을 ()안에 넣어준다"
   ]
  },
  {
   "cell_type": "code",
   "execution_count": 6,
   "id": "026fb2ed",
   "metadata": {},
   "outputs": [
    {
     "name": "stdout",
     "output_type": "stream",
     "text": [
      "1\n",
      "2\n",
      "3\n",
      "4\n"
     ]
    }
   ],
   "source": [
    "print(1)\n",
    "print(2)\n",
    "print(3)\n",
    "print(4)"
   ]
  },
  {
   "cell_type": "code",
   "execution_count": 5,
   "id": "50cf95e0",
   "metadata": {},
   "outputs": [
    {
     "name": "stdout",
     "output_type": "stream",
     "text": [
      "1\n",
      "hello\n",
      "1.3\n"
     ]
    }
   ],
   "source": [
    "print(1)\n",
    "print('hello')\n",
    "print(1.3)"
   ]
  },
  {
   "cell_type": "markdown",
   "id": "c797d917",
   "metadata": {},
   "source": [
    "# 자료형"
   ]
  },
  {
   "cell_type": "markdown",
   "id": "a2fd6277",
   "metadata": {},
   "source": [
    "## 정수\n",
    "  - integer (int)"
   ]
  },
  {
   "cell_type": "code",
   "execution_count": 8,
   "id": "a72d7722",
   "metadata": {},
   "outputs": [
    {
     "data": {
      "text/plain": [
       "-100"
      ]
     },
     "execution_count": 8,
     "metadata": {},
     "output_type": "execute_result"
    }
   ],
   "source": [
    "-100"
   ]
  },
  {
   "cell_type": "code",
   "execution_count": 54,
   "id": "f3e5e410",
   "metadata": {},
   "outputs": [
    {
     "data": {
      "text/plain": [
       "1000"
      ]
     },
     "execution_count": 54,
     "metadata": {},
     "output_type": "execute_result"
    }
   ],
   "source": [
    "1000"
   ]
  },
  {
   "cell_type": "markdown",
   "id": "752b4ed3",
   "metadata": {},
   "source": [
    "## 실수"
   ]
  },
  {
   "cell_type": "code",
   "execution_count": 11,
   "id": "f26a379f",
   "metadata": {},
   "outputs": [
    {
     "data": {
      "text/plain": [
       "-1.1"
      ]
     },
     "execution_count": 11,
     "metadata": {},
     "output_type": "execute_result"
    }
   ],
   "source": [
    "-1.1"
   ]
  },
  {
   "cell_type": "code",
   "execution_count": 12,
   "id": "343ef5e9",
   "metadata": {},
   "outputs": [
    {
     "data": {
      "text/plain": [
       "-12.4"
      ]
     },
     "execution_count": 12,
     "metadata": {},
     "output_type": "execute_result"
    }
   ],
   "source": [
    "-12.4"
   ]
  },
  {
   "cell_type": "markdown",
   "id": "e90b1c98",
   "metadata": {},
   "source": [
    "## 문자열"
   ]
  },
  {
   "cell_type": "code",
   "execution_count": 74,
   "id": "5249700f",
   "metadata": {},
   "outputs": [
    {
     "data": {
      "text/plain": [
       "'aaaa'"
      ]
     },
     "execution_count": 74,
     "metadata": {},
     "output_type": "execute_result"
    }
   ],
   "source": [
    "'aaaa'"
   ]
  },
  {
   "cell_type": "code",
   "execution_count": 39,
   "id": "9149c53f",
   "metadata": {},
   "outputs": [
    {
     "data": {
      "text/plain": [
       "'my name is cha'"
      ]
     },
     "execution_count": 39,
     "metadata": {},
     "output_type": "execute_result"
    }
   ],
   "source": [
    "'my name is cha'"
   ]
  },
  {
   "cell_type": "markdown",
   "id": "8b8ed715",
   "metadata": {},
   "source": [
    "## 리스트"
   ]
  },
  {
   "cell_type": "code",
   "execution_count": 23,
   "id": "de60c0fd",
   "metadata": {},
   "outputs": [
    {
     "data": {
      "text/plain": [
       "[1, 2, 3, 4, 5]"
      ]
     },
     "execution_count": 23,
     "metadata": {},
     "output_type": "execute_result"
    }
   ],
   "source": [
    "[1,2,3,4,5]"
   ]
  },
  {
   "cell_type": "code",
   "execution_count": 24,
   "id": "37cfe881",
   "metadata": {},
   "outputs": [
    {
     "data": {
      "text/plain": [
       "['배', '사과', '포도', '오렌지']"
      ]
     },
     "execution_count": 24,
     "metadata": {},
     "output_type": "execute_result"
    }
   ],
   "source": [
    "['배', '사과', '포도', '오렌지']"
   ]
  },
  {
   "cell_type": "code",
   "execution_count": 25,
   "id": "84e6e49e",
   "metadata": {},
   "outputs": [
    {
     "data": {
      "text/plain": [
       "[1, 'hello', 'bye', 1.2, 3]"
      ]
     },
     "execution_count": 25,
     "metadata": {},
     "output_type": "execute_result"
    }
   ],
   "source": [
    "[1,'hello', 'bye', 1.2, 3]"
   ]
  },
  {
   "cell_type": "markdown",
   "id": "020f90f6",
   "metadata": {},
   "source": [
    "## 딕셔너리"
   ]
  },
  {
   "cell_type": "code",
   "execution_count": 58,
   "id": "e2db3c49",
   "metadata": {},
   "outputs": [
    {
     "data": {
      "text/plain": [
       "{'name': '홍길동', 'height': 172, 'age': 33, 'home': '대전'}"
      ]
     },
     "execution_count": 58,
     "metadata": {},
     "output_type": "execute_result"
    }
   ],
   "source": [
    "{\"name\" : \"홍길동\", \"height\" : 172, \"age\" : 33, \"home\" : \"대전\"}"
   ]
  },
  {
   "cell_type": "markdown",
   "id": "b48ece7c",
   "metadata": {},
   "source": [
    "# 변수\n",
    "  - 변수는 저장 공간이다. 데이터 또는 값을 저장한다.\n",
    "  - 동일한 값(데이터)을 계속 사용하려고\n",
    "  - 값에 의미를 부여하려고\n",
    "  - 변수를 사용하면 해당 변수는 저장되어 있는 값이 된다\n",
    "  - = 왼쪽오면 변수는 값이 아닌 본연의 저장 역할을 한다"
   ]
  },
  {
   "cell_type": "code",
   "execution_count": 34,
   "id": "1a300041",
   "metadata": {},
   "outputs": [
    {
     "name": "stdout",
     "output_type": "stream",
     "text": [
      "11\n",
      "11\n"
     ]
    }
   ],
   "source": [
    "age = 11\n",
    "\n",
    "print(age)\n",
    "print(age)"
   ]
  },
  {
   "cell_type": "code",
   "execution_count": 37,
   "id": "b2d359a1",
   "metadata": {},
   "outputs": [
    {
     "name": "stdout",
     "output_type": "stream",
     "text": [
      "홍길동\n",
      "30\n"
     ]
    }
   ],
   "source": [
    "name = '홍길동'\n",
    "age = 30\n",
    "\n",
    "print(name)\n",
    "print(age)"
   ]
  },
  {
   "cell_type": "code",
   "execution_count": 46,
   "id": "7417d243",
   "metadata": {},
   "outputs": [
    {
     "name": "stdout",
     "output_type": "stream",
     "text": [
      "[1, 2, 3, 4, 5]\n",
      "{'name': '홍길동', 'height': 172, 'age': 33, 'home': '대전'}\n"
     ]
    }
   ],
   "source": [
    "f = 1.1\n",
    "\n",
    "# 변수명 만들 때,\n",
    "# 숫자로 시작 X\n",
    "# 변수명 사이에 공백 X -> _를 넣어준다.\n",
    "# 특수문자를 포함하지 않는다.\n",
    "# 대문자로 짓지 않는다\n",
    "\n",
    "\n",
    "li = [1,2,3,4,5] # 리스트 변수에 저장\n",
    "\n",
    "dic = {\"name\" : \"홍길동\", \"height\" : 172, \"age\" : 33, \"home\" : \"대전\"}\n",
    "\n",
    "print(li)\n",
    "print(dic)\n"
   ]
  },
  {
   "cell_type": "code",
   "execution_count": 73,
   "id": "0837c559",
   "metadata": {},
   "outputs": [
    {
     "name": "stdout",
     "output_type": "stream",
     "text": [
      "30.4\n",
      "10.200000000000001\n",
      "205.03\n",
      "2.00990099009901\n",
      "False\n",
      "True\n",
      "False\n",
      "True\n",
      "helloworld\n"
     ]
    },
    {
     "data": {
      "text/plain": [
       "'홍길동'"
      ]
     },
     "execution_count": 73,
     "metadata": {},
     "output_type": "execute_result"
    }
   ],
   "source": [
    "# 값(데이터) 처리 -> 주석.\n",
    "\n",
    "# 정수, 실수\n",
    "num1 = 10.1\n",
    "num2 = 20.3\n",
    "\n",
    "# 산술연산\n",
    "print(num1 + num2)\n",
    "print(num2 - num1)\n",
    "print(num1 * num2)\n",
    "print(num2 / num1)\n",
    "\n",
    "# 크기 비교\n",
    "print(num1 > num2)\n",
    "print(num1 < num2)\n",
    "print(num1 == num2)\n",
    "print(num1 != num2)\n",
    "\n",
    "# 문자열 붙이기\n",
    "print(\"hello\" + \"world\")\n",
    "\n",
    "# 리스트 -> 하나 꺼내오기\n",
    "li = [1,2,3,4,5]\n",
    "\n",
    "# index(인덱스). 0부터 시작\n",
    "li[2] * 2\n",
    "\n",
    "# 딕셔너리 -> 하나 꺼내오기\n",
    "# 데이터에 붙인 이름 key(키), value(밸류)\n",
    "dic = {\"name\" : \"홍길동\", \"height\" : 172, \"age\" : 33, \"home\" : \"대전\"}\n",
    "\n",
    "dic[\"height\"]\n",
    "dic[\"name\"]"
   ]
  },
  {
   "cell_type": "markdown",
   "id": "c548e246",
   "metadata": {},
   "source": [
    "# 조건문"
   ]
  },
  {
   "cell_type": "markdown",
   "id": "1845823c",
   "metadata": {},
   "source": [
    "## if"
   ]
  },
  {
   "cell_type": "code",
   "execution_count": 73,
   "id": "f7c1b03c",
   "metadata": {},
   "outputs": [
    {
     "name": "stdout",
     "output_type": "stream",
     "text": [
      "성인입니다\n"
     ]
    }
   ],
   "source": [
    "age = 20\n",
    "\n",
    "if age < 20 :\n",
    "    print('미성년자입니다.')\n",
    "    \n",
    "if age >= 20 :\n",
    "    print('성인입니다')"
   ]
  },
  {
   "cell_type": "markdown",
   "id": "ae244409",
   "metadata": {},
   "source": [
    "## else"
   ]
  },
  {
   "cell_type": "code",
   "execution_count": null,
   "id": "a6428335",
   "metadata": {},
   "outputs": [],
   "source": [
    "age = 20\n",
    "\n",
    "if age < 20 :\n",
    "    print('미성년자입니다.')\n",
    "elif :\n",
    "    print('성인입니다')"
   ]
  },
  {
   "cell_type": "markdown",
   "id": "c8dd5c70",
   "metadata": {},
   "source": [
    "## elif"
   ]
  },
  {
   "cell_type": "code",
   "execution_count": 77,
   "id": "01636e1e",
   "metadata": {},
   "outputs": [
    {
     "name": "stdout",
     "output_type": "stream",
     "text": [
      "미성년자입니다.\n"
     ]
    }
   ],
   "source": [
    "age = 11\n",
    "if age < 8 :\n",
    "    print('미취학 아동입니다.')\n",
    "elif age < 20 :\n",
    "    print('미성년자입니다.')\n",
    "else :\n",
    "    print('성인입니다')"
   ]
  },
  {
   "cell_type": "markdown",
   "id": "8f684674",
   "metadata": {},
   "source": [
    "# 반복문"
   ]
  },
  {
   "cell_type": "code",
   "execution_count": 79,
   "id": "e30e3d4d",
   "metadata": {},
   "outputs": [],
   "source": [
    "while False :\n",
    "    print('a')"
   ]
  },
  {
   "cell_type": "code",
   "execution_count": 14,
   "id": "e64edaa2",
   "metadata": {},
   "outputs": [
    {
     "name": "stdout",
     "output_type": "stream",
     "text": [
      "0 1 2 3 4 5 6 7 8 9 "
     ]
    }
   ],
   "source": [
    "for i in range(10) :\n",
    "    print(i, end=\" \")"
   ]
  },
  {
   "cell_type": "code",
   "execution_count": 80,
   "id": "db62cc55",
   "metadata": {},
   "outputs": [
    {
     "name": "stdout",
     "output_type": "stream",
     "text": [
      "1 2 3 4 5 "
     ]
    }
   ],
   "source": [
    "for i in [1,2,3,4,5] :\n",
    "    print(i, end=\" \")"
   ]
  },
  {
   "cell_type": "code",
   "execution_count": 81,
   "id": "498a13b9",
   "metadata": {},
   "outputs": [
    {
     "name": "stdout",
     "output_type": "stream",
     "text": [
      "1 2 3 4 5 "
     ]
    }
   ],
   "source": [
    "li = [1,2,3,4,5]\n",
    "\n",
    "for num in li :\n",
    "    print(num, end=\" \")"
   ]
  },
  {
   "cell_type": "code",
   "execution_count": 82,
   "id": "ac205a51",
   "metadata": {},
   "outputs": [
    {
     "name": "stdout",
     "output_type": "stream",
     "text": [
      "사과 감 귤 배 포도 "
     ]
    }
   ],
   "source": [
    "li2 = ['사과', '감', '귤', '배', '포도']\n",
    "\n",
    "for f in li2 :\n",
    "    print(f, end=\" \")"
   ]
  }
 ],
 "metadata": {
  "kernelspec": {
   "display_name": "Python 3 (ipykernel)",
   "language": "python",
   "name": "python3"
  },
  "language_info": {
   "codemirror_mode": {
    "name": "ipython",
    "version": 3
   },
   "file_extension": ".py",
   "mimetype": "text/x-python",
   "name": "python",
   "nbconvert_exporter": "python",
   "pygments_lexer": "ipython3",
   "version": "3.9.7"
  },
  "toc": {
   "base_numbering": 1,
   "nav_menu": {
    "height": "45px",
    "width": "160px"
   },
   "number_sections": true,
   "sideBar": true,
   "skip_h1_title": false,
   "title_cell": "Table of Contents",
   "title_sidebar": "Contents",
   "toc_cell": false,
   "toc_position": {
    "height": "calc(100% - 180px)",
    "left": "10px",
    "top": "150px",
    "width": "165px"
   },
   "toc_section_display": true,
   "toc_window_display": true
  },
  "varInspector": {
   "cols": {
    "lenName": 16,
    "lenType": 16,
    "lenVar": 40
   },
   "kernels_config": {
    "python": {
     "delete_cmd_postfix": "",
     "delete_cmd_prefix": "del ",
     "library": "var_list.py",
     "varRefreshCmd": "print(var_dic_list())"
    },
    "r": {
     "delete_cmd_postfix": ") ",
     "delete_cmd_prefix": "rm(",
     "library": "var_list.r",
     "varRefreshCmd": "cat(var_dic_list()) "
    }
   },
   "types_to_exclude": [
    "module",
    "function",
    "builtin_function_or_method",
    "instance",
    "_Feature"
   ],
   "window_display": false
  }
 },
 "nbformat": 4,
 "nbformat_minor": 5
}
