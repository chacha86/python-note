{
  "cells": [
    {
      "cell_type": "markdown",
      "metadata": {
        "id": "view-in-github",
        "colab_type": "text"
      },
      "source": [
        "<a href=\"https://colab.research.google.com/github/chacha86/python-note/blob/main/article_db_with_python.ipynb\" target=\"_parent\"><img src=\"https://colab.research.google.com/assets/colab-badge.svg\" alt=\"Open In Colab\"/></a>"
      ]
    },
    {
      "cell_type": "code",
      "execution_count": null,
      "id": "2a111e14",
      "metadata": {
        "id": "2a111e14",
        "outputId": "350336de-5d70-4555-97d5-cbd81d08d841"
      },
      "outputs": [
        {
          "name": "stdout",
          "output_type": "stream",
          "text": [
            "Requirement already satisfied: pymysql in /home/chacha/anaconda3/lib/python3.9/site-packages (1.0.2)\n",
            "Note: you may need to restart the kernel to use updated packages.\n"
          ]
        }
      ],
      "source": [
        "pip install pymysql"
      ]
    },
    {
      "cell_type": "markdown",
      "id": "4c7b69f2",
      "metadata": {
        "id": "4c7b69f2"
      },
      "source": [
        "# 연결"
      ]
    },
    {
      "cell_type": "code",
      "execution_count": null,
      "id": "d3a982e2",
      "metadata": {
        "scrolled": false,
        "id": "d3a982e2"
      },
      "outputs": [],
      "source": [
        "# 1단계 : import\n",
        "import pymysql as my\n",
        "\n",
        "# 2단계 : connect(mysql 접속)\n",
        "db = my.connect(host='localhost', port=3306, user='root', passwd='', db='b2', charset='utf8')\n",
        "# 3단계 : cusor : 커서 생성\n",
        "cursor = db.cursor(my.cursors.DictCursor)\n",
        "\n"
      ]
    },
    {
      "cell_type": "markdown",
      "id": "54e657d3",
      "metadata": {
        "id": "54e657d3"
      },
      "source": [
        "# 게시물 목록"
      ]
    },
    {
      "cell_type": "code",
      "execution_count": null,
      "id": "eeb23189",
      "metadata": {
        "id": "eeb23189",
        "outputId": "e17b20ab-74a2-4895-ebd2-a12fa56359d0"
      },
      "outputs": [
        {
          "name": "stdout",
          "output_type": "stream",
          "text": [
            "게시판을 선택해주세요(1. 질문과 답변, 2. 공지사항, 3. 자유게시판) : 1\n",
            "번호  제목                           작성자     작성일                   조회수 \n",
            "---------------------------------------------------------------------------------\n",
            "8     제목8                          의적       2020-07-01               87 \n",
            "---------------------------------------------------------------------------------\n",
            "9     제목9                          의적       2022-03-03               56 \n",
            "---------------------------------------------------------------------------------\n",
            "10    제목10                         해신       2022-04-01               3 \n",
            "---------------------------------------------------------------------------------\n",
            "11    파이썬 좀 쉽게 할 수...        길동이     2022-04-04               0 \n",
            "---------------------------------------------------------------------------------\n",
            "12    dfdfer                         길동이     2022-04-04               0 \n",
            "---------------------------------------------------------------------------------\n"
          ]
        }
      ],
      "source": [
        "# 4단계 : \n",
        "\n",
        "board_id = input(\"게시판을 선택해주세요(1. 질문과 답변, 2. 공지사항, 3. 자유게시판) : \")\n",
        "\n",
        "sql = 'SELECT * FROM article a INNER JOIN member m ON a.member_id = m.member_id where board_id = {} order by a.article_id'.format(board_id)\n",
        "cursor.execute(sql)\n",
        "\n",
        "result = cursor.fetchall()\n",
        "\n",
        "def add_padding(pstr, width) :\n",
        "    if str(type(pstr)) == \"<class 'int'>\" :\n",
        "        pstr = str(pstr)\n",
        "    \n",
        "    cnt = 0\n",
        "    for c in pstr :\n",
        "        if 0 <= ord(c) and ord(c) <= 127 :\n",
        "            cnt += 1\n",
        "        else :\n",
        "            cnt += 2\n",
        "    \n",
        "    pd_len = width - cnt\n",
        "    for i in range(pd_len) :\n",
        "        pstr += ' '\n",
        "    \n",
        "    return pstr\n",
        "\n",
        "def f2(s1, s2, s3, s4, s5) :\n",
        "    if len(s2) >= 15 :\n",
        "        s2 = s2[:12] + \"...\"\n",
        "    print(add_padding(s1, 5), end=\" \")\n",
        "    print(add_padding(s2, 30), end=\" \")\n",
        "    print(add_padding(s3, 10), end=\" \")\n",
        "    print(add_padding(s4, 24), end=\" \")\n",
        "    print(add_padding(s5, 0), end=\" \")\n",
        "    print()\n",
        "    print(\"---------------------------------------------------------------------------------\")\n",
        "\n",
        "def print_articles(articles) :\n",
        "    f2(\"번호\", \"제목\", \"작성자\", \"작성일\", \"조회수\")\n",
        "    for a in articles :\n",
        "        f2(a[\"article_id\"], a[\"title\"], a[\"nick_name\"], str(a['regDate'])[:10], a['hit'])\n",
        "\n",
        "print_articles(result)"
      ]
    },
    {
      "cell_type": "markdown",
      "id": "75f2f5f0",
      "metadata": {
        "id": "75f2f5f0"
      },
      "source": [
        "# 게시물 상세보기"
      ]
    },
    {
      "cell_type": "code",
      "execution_count": null,
      "id": "017533a4",
      "metadata": {
        "id": "017533a4",
        "outputId": "54bac0b3-6c4c-4105-97e7-76cdcb6e88b6"
      },
      "outputs": [
        {
          "name": "stdout",
          "output_type": "stream",
          "text": [
            "번호를 입력해주세요 : 6\n",
            "================== 게시물 상세보기 ===================\n",
            "번호 : 6\n",
            "제목 : 제목6\n",
            "내용 : 내용6\n",
            "작성자 : 해신\n",
            "작성일 : 2020-03-03 12:30:00\n",
            "------------------------------------------------------\n",
            "댓글 3\n",
            "------------------------------------------------------\n",
            "내용 : 댓글내용3\n",
            "작성자 : 길동이\n",
            "작성일 : 2020-03-03 12:30:00\n",
            "--------------------------------------------------------\n",
            "내용 : 댓글내용4\n",
            "작성자 : 길동이\n",
            "작성일 : 2020-03-05 15:12:00\n",
            "--------------------------------------------------------\n",
            "내용 : 댓글내용5\n",
            "작성자 : 길동이\n",
            "작성일 : 2020-03-12 19:08:00\n",
            "--------------------------------------------------------\n"
          ]
        }
      ],
      "source": [
        "def print_detail(article, replies) :\n",
        "    print(\"================== 게시물 상세보기 ===================\")\n",
        "    print(\"번호 : {}\".format(article[\"article_id\"])) \n",
        "    print(\"제목 : {}\".format(article[\"title\"]))\n",
        "    print(\"내용 : {}\".format(article[\"body\"]))\n",
        "    print(\"작성자 : {}\".format(article[\"nick_name\"]))\n",
        "    print(\"작성일 : {}\".format(article[\"regDate\"]))      \n",
        "    print(\"------------------------------------------------------\")\n",
        "    print(\"댓글 {}\".format(len(replies)))\n",
        "    print(\"------------------------------------------------------\")\n",
        "    for reply in replies :\n",
        "        print(\"내용 : {}\".format(reply[\"body\"]))\n",
        "        print(\"작성자 : {}\".format(reply[\"nick_name\"]))\n",
        "        print(\"작성일 : {}\".format(reply[\"regDate\"]))\n",
        "        print(\"--------------------------------------------------------\")\n",
        "          \n",
        "# ===============================================================================================================\n",
        "id = input(\"번호를 입력해주세요 : \")\n",
        "\n",
        "sql = '''\n",
        "    SELECT *, m.nick_name \n",
        "      FROM article a\n",
        "     INNER JOIN member m\n",
        "        ON a.member_id = m.member_id\n",
        "     WHERE a.article_id = {}\n",
        "    '''.format(id)\n",
        "\n",
        "cursor.execute(sql)\n",
        "a = cursor.fetchone()\n",
        "\n",
        "sql = '''\n",
        "    SELECT *, m.nick_name\n",
        "      FROM articleReply ar\n",
        "     INNER JOIN member m\n",
        "        ON ar.member_id = m.member_id\n",
        "     WHERE article_id = {}\n",
        "'''.format(id)\n",
        "\n",
        "cursor.execute(sql)\n",
        "ar = cursor.fetchall()\n",
        "\n",
        "print_detail(a, ar)\n",
        "\n",
        "# ===============================================================================================================\n"
      ]
    },
    {
      "cell_type": "markdown",
      "id": "c5d867b2",
      "metadata": {
        "id": "c5d867b2"
      },
      "source": [
        "# 게시물 등록"
      ]
    },
    {
      "cell_type": "code",
      "execution_count": null,
      "id": "346fe163",
      "metadata": {
        "id": "346fe163",
        "outputId": "8de5cba7-f552-46b8-821d-1809ddfbc539"
      },
      "outputs": [
        {
          "name": "stdout",
          "output_type": "stream",
          "text": [
            "아이디 : user1\n",
            "비밀번호 : 1234\n",
            "안녕하세요 길동이님!\n",
            "게시판을 선택해주세요 (1. 질문과 답변, 2. 공지사항, 3. 자유게시판): 2\n",
            "제목 : hahahaha\n",
            "내용 : mamamama\n"
          ]
        }
      ],
      "source": [
        "loginId = input(\"아이디 : \")\n",
        "loginPw = input(\"비밀번호 : \")\n",
        "\n",
        "sql = \"SELECT * FROM member WHERE login_id = '{}' and login_pw = '{}'\".format(loginId, loginPw)\n",
        "\n",
        "cursor.execute(sql)\n",
        "member = cursor.fetchone()\n",
        "\n",
        "if member == None :\n",
        "    print(\"없는 아이디입니다.\")\n",
        "\n",
        "else :\n",
        "    \n",
        "    print(\"안녕하세요 {}님!\".format(member[\"nick_name\"]))\n",
        "    board_id = input(\"게시판을 선택해주세요 (1. 질문과 답변, 2. 공지사항, 3. 자유게시판): \")\n",
        "    title = input(\"제목 : \")\n",
        "    body = input(\"내용 : \")\n",
        "\n",
        "    sql = \"\"\"\n",
        "        INSERT INTO article\n",
        "           SET title = '{}'\n",
        "             , body = '{}'\n",
        "             , member_id = {}\n",
        "             , board_id = {}\n",
        "             , hit = 0\n",
        "             , regDate = NOW()\n",
        "    \"\"\".format(title, body, member[\"member_id\"], board_id)\n",
        "\n",
        "    cursor.execute(sql)\n",
        "    db.commit()\n"
      ]
    },
    {
      "cell_type": "markdown",
      "id": "c2d21035",
      "metadata": {
        "id": "c2d21035"
      },
      "source": [
        "# 게시물 검색"
      ]
    },
    {
      "cell_type": "code",
      "execution_count": null,
      "id": "daceaab2",
      "metadata": {
        "id": "daceaab2",
        "outputId": "266466c0-73e2-4f7b-b925-6dddf9586a92"
      },
      "outputs": [
        {
          "name": "stdout",
          "output_type": "stream",
          "text": [
            "게시판을 선택해주세요(1. 질문과 답변, 2. 공지사항, 3. 자유게시판) : 1\n",
            "검색어 : 제\n",
            "SELECT * FROM article a INNER JOIN member m ON a.member_id = m.member_id where board_id = 1 and title like '%제%' order by a.article_id\n",
            "번호  제목                           작성자     작성일                   조회수 \n",
            "---------------------------------------------------------------------------------\n",
            "8     제목8                          의적       2020-07-01               87 \n",
            "---------------------------------------------------------------------------------\n",
            "9     제목9                          의적       2022-03-03               56 \n",
            "---------------------------------------------------------------------------------\n",
            "10    제목10                         해신       2022-04-01               3 \n",
            "---------------------------------------------------------------------------------\n"
          ]
        }
      ],
      "source": [
        "board_id = input(\"게시판을 선택해주세요(1. 질문과 답변, 2. 공지사항, 3. 자유게시판) : \")\n",
        "keyword = input(\"검색어 : \")\n",
        "\n",
        "sql = \"SELECT * FROM article a INNER JOIN member m ON a.member_id = m.member_id where board_id = {} and title like '%{}%' order by a.article_id\".format(board_id, keyword)\n",
        "print(sql)\n",
        "cursor.execute(sql)\n",
        "\n",
        "result = cursor.fetchall()\n",
        "\n",
        "print_articles(result)"
      ]
    },
    {
      "cell_type": "markdown",
      "id": "a35616c6",
      "metadata": {
        "id": "a35616c6"
      },
      "source": [
        "# 게시물 수정"
      ]
    },
    {
      "cell_type": "code",
      "execution_count": null,
      "id": "73df04bc",
      "metadata": {
        "id": "73df04bc"
      },
      "outputs": [],
      "source": [
        "\n"
      ]
    },
    {
      "cell_type": "markdown",
      "id": "c4c0fce0",
      "metadata": {
        "id": "c4c0fce0"
      },
      "source": [
        "# 게시물 삭제"
      ]
    },
    {
      "cell_type": "code",
      "execution_count": null,
      "id": "10b7ef37",
      "metadata": {
        "id": "10b7ef37"
      },
      "outputs": [],
      "source": [
        ""
      ]
    },
    {
      "cell_type": "markdown",
      "id": "648d5db1",
      "metadata": {
        "id": "648d5db1"
      },
      "source": [
        "# 게시물 정렬"
      ]
    }
  ],
  "metadata": {
    "kernelspec": {
      "display_name": "Python 3 (ipykernel)",
      "language": "python",
      "name": "python3"
    },
    "language_info": {
      "codemirror_mode": {
        "name": "ipython",
        "version": 3
      },
      "file_extension": ".py",
      "mimetype": "text/x-python",
      "name": "python",
      "nbconvert_exporter": "python",
      "pygments_lexer": "ipython3",
      "version": "3.9.7"
    },
    "toc": {
      "base_numbering": 1,
      "nav_menu": {},
      "number_sections": true,
      "sideBar": true,
      "skip_h1_title": false,
      "title_cell": "Table of Contents",
      "title_sidebar": "Contents",
      "toc_cell": false,
      "toc_position": {},
      "toc_section_display": true,
      "toc_window_display": false
    },
    "varInspector": {
      "cols": {
        "lenName": 16,
        "lenType": 16,
        "lenVar": 40
      },
      "kernels_config": {
        "python": {
          "delete_cmd_postfix": "",
          "delete_cmd_prefix": "del ",
          "library": "var_list.py",
          "varRefreshCmd": "print(var_dic_list())"
        },
        "r": {
          "delete_cmd_postfix": ") ",
          "delete_cmd_prefix": "rm(",
          "library": "var_list.r",
          "varRefreshCmd": "cat(var_dic_list()) "
        }
      },
      "types_to_exclude": [
        "module",
        "function",
        "builtin_function_or_method",
        "instance",
        "_Feature"
      ],
      "window_display": false
    },
    "colab": {
      "name": "article_db_with_python.ipynb의 사본",
      "provenance": [],
      "include_colab_link": true
    }
  },
  "nbformat": 4,
  "nbformat_minor": 5
}